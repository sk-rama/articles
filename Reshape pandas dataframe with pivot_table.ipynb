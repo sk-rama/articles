{
 "cells": [
  {
   "cell_type": "markdown",
   "metadata": {},
   "source": [
    "# Reshape pandas dataframe with pivot_table\n",
    "---"
   ]
  },
  {
   "cell_type": "code",
   "execution_count": 1,
   "metadata": {},
   "outputs": [],
   "source": [
    "import pandas as pd"
   ]
  },
  {
   "cell_type": "markdown",
   "metadata": {},
   "source": [
    "## Create long data\n",
    "---"
   ]
  },
  {
   "cell_type": "code",
   "execution_count": 2,
   "metadata": {},
   "outputs": [
    {
     "data": {
      "text/html": [
       "<div>\n",
       "<style scoped>\n",
       "    .dataframe tbody tr th:only-of-type {\n",
       "        vertical-align: middle;\n",
       "    }\n",
       "\n",
       "    .dataframe tbody tr th {\n",
       "        vertical-align: top;\n",
       "    }\n",
       "\n",
       "    .dataframe thead th {\n",
       "        text-align: right;\n",
       "    }\n",
       "</style>\n",
       "<table border=\"1\" class=\"dataframe\">\n",
       "  <thead>\n",
       "    <tr style=\"text-align: right;\">\n",
       "      <th></th>\n",
       "      <th>student</th>\n",
       "      <th>school</th>\n",
       "      <th>class</th>\n",
       "      <th>grade</th>\n",
       "    </tr>\n",
       "  </thead>\n",
       "  <tbody>\n",
       "    <tr>\n",
       "      <th>0</th>\n",
       "      <td>Andy</td>\n",
       "      <td>Z</td>\n",
       "      <td>english</td>\n",
       "      <td>10</td>\n",
       "    </tr>\n",
       "    <tr>\n",
       "      <th>1</th>\n",
       "      <td>Bernie</td>\n",
       "      <td>Y</td>\n",
       "      <td>english</td>\n",
       "      <td>100</td>\n",
       "    </tr>\n",
       "    <tr>\n",
       "      <th>2</th>\n",
       "      <td>Cindy</td>\n",
       "      <td>Z</td>\n",
       "      <td>english</td>\n",
       "      <td>1000</td>\n",
       "    </tr>\n",
       "    <tr>\n",
       "      <th>3</th>\n",
       "      <td>Deb</td>\n",
       "      <td>Y</td>\n",
       "      <td>english</td>\n",
       "      <td>10000</td>\n",
       "    </tr>\n",
       "    <tr>\n",
       "      <th>4</th>\n",
       "      <td>Andy</td>\n",
       "      <td>Z</td>\n",
       "      <td>math</td>\n",
       "      <td>20</td>\n",
       "    </tr>\n",
       "    <tr>\n",
       "      <th>5</th>\n",
       "      <td>Bernie</td>\n",
       "      <td>Y</td>\n",
       "      <td>math</td>\n",
       "      <td>200</td>\n",
       "    </tr>\n",
       "    <tr>\n",
       "      <th>6</th>\n",
       "      <td>Cindy</td>\n",
       "      <td>Z</td>\n",
       "      <td>math</td>\n",
       "      <td>2000</td>\n",
       "    </tr>\n",
       "    <tr>\n",
       "      <th>7</th>\n",
       "      <td>Deb</td>\n",
       "      <td>Y</td>\n",
       "      <td>math</td>\n",
       "      <td>20000</td>\n",
       "    </tr>\n",
       "    <tr>\n",
       "      <th>8</th>\n",
       "      <td>Andy</td>\n",
       "      <td>Z</td>\n",
       "      <td>physics</td>\n",
       "      <td>30</td>\n",
       "    </tr>\n",
       "    <tr>\n",
       "      <th>9</th>\n",
       "      <td>Bernie</td>\n",
       "      <td>Y</td>\n",
       "      <td>physics</td>\n",
       "      <td>300</td>\n",
       "    </tr>\n",
       "    <tr>\n",
       "      <th>10</th>\n",
       "      <td>Cindy</td>\n",
       "      <td>Z</td>\n",
       "      <td>physics</td>\n",
       "      <td>3000</td>\n",
       "    </tr>\n",
       "    <tr>\n",
       "      <th>11</th>\n",
       "      <td>Deb</td>\n",
       "      <td>Y</td>\n",
       "      <td>physics</td>\n",
       "      <td>30000</td>\n",
       "    </tr>\n",
       "  </tbody>\n",
       "</table>\n",
       "</div>"
      ],
      "text/plain": [
       "   student school    class  grade\n",
       "0     Andy      Z  english     10\n",
       "1   Bernie      Y  english    100\n",
       "2    Cindy      Z  english   1000\n",
       "3      Deb      Y  english  10000\n",
       "4     Andy      Z     math     20\n",
       "5   Bernie      Y     math    200\n",
       "6    Cindy      Z     math   2000\n",
       "7      Deb      Y     math  20000\n",
       "8     Andy      Z  physics     30\n",
       "9   Bernie      Y  physics    300\n",
       "10   Cindy      Z  physics   3000\n",
       "11     Deb      Y  physics  30000"
      ]
     },
     "execution_count": 2,
     "metadata": {},
     "output_type": "execute_result"
    }
   ],
   "source": [
    "df_long = pd.DataFrame({\n",
    "        \"student\":\n",
    "            [\"Andy\", \"Bernie\", \"Cindy\", \"Deb\",\n",
    "             \"Andy\", \"Bernie\", \"Cindy\", \"Deb\",\n",
    "             \"Andy\", \"Bernie\", \"Cindy\", \"Deb\"],\n",
    "        \"school\":\n",
    "            [\"Z\", \"Y\", \"Z\", \"Y\",\n",
    "             \"Z\", \"Y\", \"Z\", \"Y\",\n",
    "             \"Z\", \"Y\", \"Z\", \"Y\"],\n",
    "        \"class\":\n",
    "            [\"english\", \"english\", \"english\", \"english\",\n",
    "             \"math\", \"math\", \"math\", \"math\",\n",
    "             \"physics\", \"physics\", \"physics\", \"physics\"],\n",
    "        \"grade\":\n",
    "            [10, 100, 1000, 10000,\n",
    "             20, 200, 2000, 20000,\n",
    "             30, 300, 3000, 30000]\n",
    "})\n",
    "df_long"
   ]
  },
  {
   "cell_type": "markdown",
   "metadata": {},
   "source": [
    "## Pivot example 1\n",
    "---"
   ]
  },
  {
   "cell_type": "markdown",
   "metadata": {},
   "source": [
    "We often want to keep the identifier columns as they are (**index=[\"student\", \"school\"]**), but pivot or \"split\" a column’s values (**values=\"grade\"**) based on another column (**columns=\"class\"**). Compare the original and pivoted dataframes below and you’ll understand what that means."
   ]
  },
  {
   "cell_type": "code",
   "execution_count": 3,
   "metadata": {},
   "outputs": [
    {
     "name": "stdout",
     "output_type": "stream",
     "text": [
      "class           english   math  physics\n",
      "student school                         \n",
      "Andy    Z            10     20       30\n",
      "Bernie  Y           100    200      300\n",
      "Cindy   Z          1000   2000     3000\n",
      "Deb     Y         10000  20000    30000\n"
     ]
    }
   ],
   "source": [
    "example1_1 = df_long.pivot_table(index=[\"student\", \"school\"], \n",
    "                    columns='class', \n",
    "                    values='grade')\n",
    "print(example1_1)"
   ]
  },
  {
   "cell_type": "code",
   "execution_count": 4,
   "metadata": {},
   "outputs": [
    {
     "name": "stdout",
     "output_type": "stream",
     "text": [
      "class student school  english   math  physics\n",
      "0        Andy      Z       10     20       30\n",
      "1      Bernie      Y      100    200      300\n",
      "2       Cindy      Z     1000   2000     3000\n",
      "3         Deb      Y    10000  20000    30000\n"
     ]
    }
   ],
   "source": [
    "example1_2 = df_long.pivot_table(index=[\"student\", \"school\"], \n",
    "                    columns='class', \n",
    "                    values='grade').reset_index()\n",
    "print(example1_2)"
   ]
  },
  {
   "cell_type": "markdown",
   "metadata": {},
   "source": [
    "Each unique value in the class column will be a new column (english, math, physics) in the pivoted/wide dataframe. We can also provide a **list** to the columns parameter.\n",
    "\n",
    "To get rid of the multi-index, use **reset_index()**."
   ]
  },
  {
   "cell_type": "markdown",
   "metadata": {},
   "source": [
    "## Pivot example 2\n",
    "---"
   ]
  },
  {
   "cell_type": "markdown",
   "metadata": {},
   "source": [
    "You can also aggregate each resulting row and column by specifying **margins=True** (default **False**).\n",
    "\n",
    "Here we aggregate by computing the sum via **aggfunc='sum'** (default **'mean'**)."
   ]
  },
  {
   "cell_type": "code",
   "execution_count": 5,
   "metadata": {},
   "outputs": [
    {
     "name": "stdout",
     "output_type": "stream",
     "text": [
      "class           english   math  physics    All\n",
      "student school                                \n",
      "Andy    Z            10     20       30     60\n",
      "Bernie  Y           100    200      300    600\n",
      "Cindy   Z          1000   2000     3000   6000\n",
      "Deb     Y         10000  20000    30000  60000\n",
      "All               11110  22220    33330  66660\n"
     ]
    }
   ],
   "source": [
    "example2_1 = df_long.pivot_table(index=[\"student\", \"school\"], \n",
    "                    columns='class', \n",
    "                    values='grade',\n",
    "                    margins=True,      # add margins\n",
    "                    aggfunc='sum')     # sum margins (rows/columns)\n",
    "print(example2_1)"
   ]
  },
  {
   "cell_type": "code",
   "execution_count": 6,
   "metadata": {},
   "outputs": [
    {
     "name": "stdout",
     "output_type": "stream",
     "text": [
      "class student school  english   math  physics    All\n",
      "0        Andy      Z       10     20       30     60\n",
      "1      Bernie      Y      100    200      300    600\n",
      "2       Cindy      Z     1000   2000     3000   6000\n",
      "3         Deb      Y    10000  20000    30000  60000\n",
      "4         All           11110  22220    33330  66660\n"
     ]
    }
   ],
   "source": [
    "example2_2 = df_long.pivot_table(index=[\"student\", \"school\"], \n",
    "                    columns='class', \n",
    "                    values='grade',\n",
    "                    margins=True,                    # add margins\n",
    "                    aggfunc='sum').reset_index()     # sum margins (rows/columns)\n",
    "print(example2_2)"
   ]
  },
  {
   "cell_type": "markdown",
   "metadata": {},
   "source": [
    "There are many other aggregation functions you can use (e.g.,**'median' 'sum' 'max'**). You can also specify multiple functions as a list (e.g.,**aggfunc=['mean', 'sum']**)."
   ]
  },
  {
   "cell_type": "markdown",
   "metadata": {},
   "source": [
    "## Pivot example 3\n",
    "---"
   ]
  },
  {
   "cell_type": "code",
   "execution_count": 7,
   "metadata": {},
   "outputs": [
    {
     "name": "stdout",
     "output_type": "stream",
     "text": [
      "  student school  grade\n",
      "0    Andy      Z     20\n",
      "1  Bernie      Y    200\n",
      "2   Cindy      Z   2000\n",
      "3     Deb      Y  20000\n"
     ]
    }
   ],
   "source": [
    "example3_1 = df_long.pivot_table(index=[\"student\", \"school\"]).reset_index()\n",
    "print(example3_1)"
   ]
  },
  {
   "cell_type": "code",
   "execution_count": 8,
   "metadata": {},
   "outputs": [
    {
     "name": "stdout",
     "output_type": "stream",
     "text": [
      "  student school  grade\n",
      "0    Andy      Z     20\n",
      "1  Bernie      Y    200\n",
      "2   Cindy      Z   2000\n",
      "3     Deb      Y  20000\n"
     ]
    }
   ],
   "source": [
    "example3_2 = df_long.groupby([\"student\", \"school\"]).mean().reset_index()\n",
    "print(example3_2)"
   ]
  },
  {
   "cell_type": "code",
   "execution_count": 9,
   "metadata": {},
   "outputs": [
    {
     "name": "stdout",
     "output_type": "stream",
     "text": [
      "                    max           first       \n",
      "                  class  grade    class  grade\n",
      "student school                                \n",
      "Andy    Z       physics     30  english     10\n",
      "Bernie  Y       physics    300  english    100\n",
      "Cindy   Z       physics   3000  english   1000\n",
      "Deb     Y       physics  30000  english  10000\n"
     ]
    }
   ],
   "source": [
    "example3_3 = df_long.pivot_table(index=[\"student\", \"school\"],\n",
    "                                 aggfunc=[\"max\", \"first\"])\n",
    "print(example3_3)"
   ]
  },
  {
   "cell_type": "code",
   "execution_count": 10,
   "metadata": {},
   "outputs": [
    {
     "name": "stdout",
     "output_type": "stream",
     "text": [
      "                  class           grade       \n",
      "                    max    first    max  first\n",
      "student school                                \n",
      "Andy    Z       physics  english     30     10\n",
      "Bernie  Y       physics  english    300    100\n",
      "Cindy   Z       physics  english   3000   1000\n",
      "Deb     Y       physics  english  30000  10000\n"
     ]
    }
   ],
   "source": [
    "example3_4 = df_long.groupby([\"student\", \"school\"]).agg([\"max\", \"first\"])\n",
    "print(example3_4)"
   ]
  },
  {
   "cell_type": "markdown",
   "metadata": {},
   "source": [
    "## Pivot example 4\n",
    "---\n"
   ]
  },
  {
   "cell_type": "code",
   "execution_count": 11,
   "metadata": {},
   "outputs": [
    {
     "name": "stdout",
     "output_type": "stream",
     "text": [
      "school         Y                         Z                \n",
      "class    english     math  physics english    math physics\n",
      "student                                                   \n",
      "Andy         NaN      NaN      NaN    10.0    20.0    30.0\n",
      "Bernie     100.0    200.0    300.0     NaN     NaN     NaN\n",
      "Cindy        NaN      NaN      NaN  1000.0  2000.0  3000.0\n",
      "Deb      10000.0  20000.0  30000.0     NaN     NaN     NaN\n"
     ]
    }
   ],
   "source": [
    "example4_1 = df_long.pivot_table(index=\"student\",\n",
    "                                 columns=[\"school\", \"class\"],\n",
    "                                 values=\"grade\")\n",
    "print(example4_1)"
   ]
  },
  {
   "cell_type": "code",
   "execution_count": 12,
   "metadata": {},
   "outputs": [
    {
     "name": "stdout",
     "output_type": "stream",
     "text": [
      "school        Y                      Z              \n",
      "class   english   math physics english  math physics\n",
      "student                                             \n",
      "Andy         -5     -5      -5      10    20      30\n",
      "Bernie      100    200     300      -5    -5      -5\n",
      "Cindy        -5     -5      -5    1000  2000    3000\n",
      "Deb       10000  20000   30000      -5    -5      -5\n"
     ]
    }
   ],
   "source": [
    "example4_2 = df_long.pivot_table(index=\"student\",\n",
    "                                 columns=[\"school\", \"class\"],\n",
    "                                 values=\"grade\",\n",
    "                                 fill_value=-5)\n",
    "print(example4_2)"
   ]
  }
 ],
 "metadata": {
  "kernelspec": {
   "display_name": "Python 3",
   "language": "python",
   "name": "python3"
  },
  "language_info": {
   "codemirror_mode": {
    "name": "ipython",
    "version": 3
   },
   "file_extension": ".py",
   "mimetype": "text/x-python",
   "name": "python",
   "nbconvert_exporter": "python",
   "pygments_lexer": "ipython3",
   "version": "3.6.10"
  }
 },
 "nbformat": 4,
 "nbformat_minor": 4
}
